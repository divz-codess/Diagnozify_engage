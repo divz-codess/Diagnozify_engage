{
 "cells": [
  {
   "cell_type": "code",
   "execution_count": null,
   "id": "0e86c4b6",
   "metadata": {},
   "outputs": [],
   "source": [
    "print(4)"
   ]
  },
  {
   "cell_type": "code",
   "execution_count": null,
   "id": "13793928",
   "metadata": {},
   "outputs": [],
   "source": [
    "#!pip install tensorflow"
   ]
  },
  {
   "cell_type": "code",
   "execution_count": null,
   "id": "583e8c51",
   "metadata": {},
   "outputs": [],
   "source": [
    "from tensorflow.keras.preprocessing import image"
   ]
  },
  {
   "cell_type": "code",
   "execution_count": null,
   "id": "a9a81d99",
   "metadata": {},
   "outputs": [],
   "source": [
    "import matplotlib.pyplot as plt"
   ]
  },
  {
   "cell_type": "code",
   "execution_count": null,
   "id": "ab073f0d",
   "metadata": {},
   "outputs": [],
   "source": [
    "import numpy as np"
   ]
  },
  {
   "cell_type": "code",
   "execution_count": null,
   "id": "7a109b8e",
   "metadata": {},
   "outputs": [],
   "source": [
    "import os\n",
    "import PIL"
   ]
  },
  {
   "cell_type": "code",
   "execution_count": null,
   "id": "da9b8019",
   "metadata": {},
   "outputs": [],
   "source": [
    "#!pip3 install tf-nightly"
   ]
  },
  {
   "cell_type": "code",
   "execution_count": null,
   "id": "0c7d48a9",
   "metadata": {},
   "outputs": [],
   "source": [
    "import tensorflow as tf"
   ]
  },
  {
   "cell_type": "code",
   "execution_count": null,
   "id": "6a119bd7",
   "metadata": {},
   "outputs": [],
   "source": [
    "tf.__version__"
   ]
  },
  {
   "cell_type": "code",
   "execution_count": null,
   "id": "a35ee476",
   "metadata": {},
   "outputs": [],
   "source": [
    "from tensorflow import keras\n",
    "from tensorflow.keras import layers\n",
    "from tensorflow.keras.models import Sequential"
   ]
  },
  {
   "cell_type": "code",
   "execution_count": null,
   "id": "4ae4aa36",
   "metadata": {},
   "outputs": [],
   "source": [
    "batch_size = 16\n",
    "img_height = 120\n",
    "img_width  = 120"
   ]
  },
  {
   "cell_type": "code",
   "execution_count": null,
   "id": "e620046f",
   "metadata": {},
   "outputs": [],
   "source": [
    "data_dir=\"D:\\Downloadzz\\Dataset\""
   ]
  },
  {
   "cell_type": "code",
   "execution_count": null,
   "id": "87bbc186",
   "metadata": {},
   "outputs": [],
   "source": [
    "mode=1"
   ]
  },
  {
   "cell_type": "code",
   "execution_count": null,
   "id": "6b0d0988",
   "metadata": {},
   "outputs": [],
   "source": [
    "train_ds = tf.keras.preprocessing.image_dataset_from_directory(\n",
    "  data_dir,\n",
    "  validation_split=0.3,\n",
    "  subset=\"training\",\n",
    "  color_mode=['grayscale', 'rgb'][mode],\n",
    "  seed=42,\n",
    "  image_size=(img_height, img_width),\n",
    "  batch_size=batch_size)\n"
   ]
  },
  {
   "cell_type": "code",
   "execution_count": null,
   "id": "07c36c32",
   "metadata": {},
   "outputs": [],
   "source": [
    "val_ds = tf.keras.preprocessing.image_dataset_from_directory(\n",
    "  data_dir,\n",
    "  validation_split=0.3,\n",
    "  subset=\"validation\",\n",
    "  color_mode=['grayscale', 'rgb'][mode],\n",
    "  seed=42,\n",
    "  image_size=(img_height, img_width),\n",
    "  batch_size=batch_size)\n"
   ]
  },
  {
   "cell_type": "code",
   "execution_count": null,
   "id": "ef9cab20",
   "metadata": {},
   "outputs": [],
   "source": []
  },
  {
   "cell_type": "code",
   "execution_count": null,
   "id": "37b69a6d",
   "metadata": {},
   "outputs": [],
   "source": [
    "class_names = train_ds.class_names\n",
    "print(class_names)"
   ]
  },
  {
   "cell_type": "code",
   "execution_count": null,
   "id": "ac285bfa",
   "metadata": {},
   "outputs": [],
   "source": [
    "class_names = val_ds.class_names\n",
    "print(class_names)"
   ]
  },
  {
   "cell_type": "code",
   "execution_count": null,
   "id": "7a3c0c25",
   "metadata": {},
   "outputs": [],
   "source": [
    "for image_batch, labels_batch in train_ds:\n",
    "    print(image_batch.shape)\n",
    "    print(labels_batch.shape)\n",
    "    break"
   ]
  },
  {
   "cell_type": "code",
   "execution_count": null,
   "id": "40f5dd79",
   "metadata": {},
   "outputs": [],
   "source": [
    "IMG_SHAPE=(img_height, img_width, 3)\n",
    "\n",
    "IMG_SHAPE"
   ]
  },
  {
   "cell_type": "code",
   "execution_count": null,
   "id": "78c62b59",
   "metadata": {},
   "outputs": [],
   "source": [
    "base_model = tf.keras.applications.MobileNetV2(input_shape=IMG_SHAPE,\n",
    "                                               include_top=False,\n",
    "                                               weights='imagenet')"
   ]
  },
  {
   "cell_type": "code",
   "execution_count": null,
   "id": "21f9a1fc",
   "metadata": {},
   "outputs": [],
   "source": [
    "base_model.trainable = False"
   ]
  },
  {
   "cell_type": "code",
   "execution_count": null,
   "id": "019ce9be",
   "metadata": {},
   "outputs": [],
   "source": [
    "base_model.summary()"
   ]
  },
  {
   "cell_type": "code",
   "execution_count": null,
   "id": "a4305ad9",
   "metadata": {},
   "outputs": [],
   "source": [
    "model1 = tf.keras.models.Sequential([\n",
    "\n",
    "layers.experimental.preprocessing.Rescaling(1./255, input_shape=(img_height, img_width, 3)),\n",
    "\n",
    "# MobileNetV2    \n",
    "base_model,\n",
    "                                     \n",
    "# Flatten the results to feed into a DNN\n",
    "tf.keras.layers.Flatten(),\n",
    "\n",
    "# 40000 neuron hidden layer\n",
    "tf.keras.layers.Dense(10000, activation='relu'),\n",
    "\n",
    "# 40000 neuron hidden layer\n",
    "tf.keras.layers.Dense(2058, activation='relu'),\n",
    "\n",
    "tf.keras.layers.Dense(512, activation='relu'),\n",
    "\n",
    "# Five States of Disease ['DiGeorge_Syndrome', 'Down_syndrome', 'Noonan_Syndrome', 'Normal_people', 'William_buren_syndrome']\n",
    "tf.keras.layers.Dense(5, activation='softmax')]\n",
    ")\n",
    "\n",
    "model1.summary()"
   ]
  },
  {
   "cell_type": "code",
   "execution_count": null,
   "id": "992d97a8",
   "metadata": {},
   "outputs": [],
   "source": [
    "model1.compile(optimizer='SGD',\n",
    "              loss=tf.keras.losses.SparseCategoricalCrossentropy(),\n",
    "              metrics=['accuracy'])"
   ]
  },
  {
   "cell_type": "code",
   "execution_count": null,
   "id": "9e353f20",
   "metadata": {},
   "outputs": [],
   "source": [
    "epochs = 50\n",
    "history = model1.fit(\n",
    "  train_ds,\n",
    "  validation_data=val_ds,\n",
    "  epochs=epochs\n",
    ")"
   ]
  },
  {
   "cell_type": "code",
   "execution_count": null,
   "id": "f0f95dc5",
   "metadata": {},
   "outputs": [],
   "source": [
    "acc = history.history['accuracy']\n",
    "val_acc = history.history['val_accuracy']\n",
    "\n",
    "loss = history.history['loss']\n",
    "val_loss = history.history['val_loss']\n",
    "\n",
    "epochs_range = range(epochs)\n",
    "\n",
    "plt.figure(figsize=(16, 8))\n",
    "plt.subplot(1, 2, 1)\n",
    "plt.plot(epochs_range, acc, label='Training Accuracy')\n",
    "plt.plot(epochs_range, val_acc, label='Validation Accuracy')\n",
    "plt.legend(loc='lower right')\n",
    "plt.title('Training and Validation Accuracy')\n",
    "\n",
    "plt.subplot(1, 2, 2)\n",
    "plt.plot(epochs_range, loss, label='Training Loss')\n",
    "plt.plot(epochs_range, val_loss, label='Validation Loss')\n",
    "plt.legend(loc='upper right')\n",
    "plt.title('Training and Validation Loss')\n",
    "plt.show()"
   ]
  },
  {
   "cell_type": "code",
   "execution_count": null,
   "id": "8f20cbfc",
   "metadata": {},
   "outputs": [],
   "source": [
    "def predictImage1(filename):\n",
    "    img1 = image.load_img(filename,target_size=(img_height, img_width))\n",
    "    \n",
    "    plt.imshow(img1)\n",
    "    \n",
    "    #img1 = tf.image.rgb_to_grayscale(img1)\n",
    " \n",
    "    Y = image.img_to_array(img1)\n",
    "    \n",
    "    X = np.expand_dims(Y,axis=0)\n",
    "    \n",
    "    val = model1.predict(X)\n",
    "    \n",
    "    val = list(val[0])\n",
    "    \n",
    "    print(val)\n",
    "    \n",
    "    class_of_object = ['DiGeorge_Syndrome', 'Down_syndrome', 'Noonan_Syndrome', 'Normal_people', 'William_buren_syndrome']\n",
    "    \n",
    "    temp = max(val)\n",
    "    \n",
    "    max_index = val.index(temp)\n",
    "    \n",
    "    print(f\"Class={class_of_object[max_index]}, Probability={temp}\")\n",
    "    "
   ]
  },
  {
   "cell_type": "code",
   "execution_count": null,
   "id": "d7f4a35c",
   "metadata": {},
   "outputs": [],
   "source": [
    "filename = \"D:\\Downloadzz\\Dataset\\Noonan Syndrome\\noonansyn\"\n",
    "\n",
    "predictImage1(filename)"
   ]
  },
  {
   "cell_type": "markdown",
   "id": "0e8a0e77",
   "metadata": {},
   "source": [
    "# Saving the Model"
   ]
  },
  {
   "cell_type": "code",
   "execution_count": null,
   "id": "d63da2d3",
   "metadata": {},
   "outputs": [],
   "source": [
    "model1.save('./saved_model/Disease_Classification')"
   ]
  },
  {
   "cell_type": "code",
   "execution_count": null,
   "id": "4f5cfe45",
   "metadata": {},
   "outputs": [],
   "source": []
  },
  {
   "cell_type": "code",
   "execution_count": null,
   "id": "11b4eb3a",
   "metadata": {},
   "outputs": [],
   "source": []
  },
  {
   "cell_type": "code",
   "execution_count": null,
   "id": "441bba67",
   "metadata": {},
   "outputs": [],
   "source": []
  }
 ],
 "metadata": {
  "kernelspec": {
   "display_name": "Python 3 (ipykernel)",
   "language": "python",
   "name": "python3"
  },
  "language_info": {
   "codemirror_mode": {
    "name": "ipython",
    "version": 3
   },
   "file_extension": ".py",
   "mimetype": "text/x-python",
   "name": "python",
   "nbconvert_exporter": "python",
   "pygments_lexer": "ipython3",
   "version": "3.10.4"
  }
 },
 "nbformat": 4,
 "nbformat_minor": 5
}
